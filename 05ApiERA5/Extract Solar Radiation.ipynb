{
 "cells": [
  {
   "cell_type": "code",
   "execution_count": 2,
   "metadata": {},
   "outputs": [],
   "source": [
    "import numpy as np\n",
    "from mpl_toolkits.basemap import Basemap\n",
    "from netCDF4 import Dataset, num2date\n",
    "import matplotlib.pyplot as plt\n",
    "import pandas as pd"
   ]
  },
  {
   "cell_type": "code",
   "execution_count": null,
   "metadata": {},
   "outputs": [],
   "source": [
    "data = Dataset(r'wavm-wave-0.1.nc','r')\n",
    "lon = data.variables['x'][:]\n",
    "lonlist = lon[100] #system koordinat di delft mengosongkan longitude daratan\n",
    "lat = data.variables['y'][:]\n",
    "latlist = lat[:,4] #system koordinat di delft mengosongkan latitude daratan"
   ]
  }
 ],
 "metadata": {
  "kernelspec": {
   "display_name": "base",
   "language": "python",
   "name": "python3"
  },
  "language_info": {
   "codemirror_mode": {
    "name": "ipython",
    "version": 3
   },
   "file_extension": ".py",
   "mimetype": "text/x-python",
   "name": "python",
   "nbconvert_exporter": "python",
   "pygments_lexer": "ipython3",
   "version": "3.11.5"
  },
  "orig_nbformat": 4
 },
 "nbformat": 4,
 "nbformat_minor": 2
}
