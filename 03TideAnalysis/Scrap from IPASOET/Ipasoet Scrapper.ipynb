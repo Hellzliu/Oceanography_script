{
 "cells": [
  {
   "cell_type": "markdown",
   "metadata": {},
   "source": [
    "# Import Module"
   ]
  },
  {
   "cell_type": "code",
   "execution_count": 51,
   "metadata": {},
   "outputs": [],
   "source": [
    "import requests\n",
    "from bs4 import BeautifulSoup\n",
    "import datetime\n",
    "import pandas as pd\n",
    "import os\n",
    "import errno\n",
    "import time"
   ]
  },
  {
   "cell_type": "markdown",
   "metadata": {},
   "source": [
    "# Input"
   ]
  },
  {
   "cell_type": "code",
   "execution_count": 52,
   "metadata": {},
   "outputs": [],
   "source": [
    "\n",
    "link = 'http://ina-sealevelmonitoring.big.go.id/ipasut/data/byday/1/' #(Feel Free to change this link to your station link)\n",
    "\n",
    "#Define Start and End Date\n",
    "start_date = datetime.date(2023,10,1) \n",
    "end_date = datetime.date(2023,10,30)"
   ]
  },
  {
   "cell_type": "markdown",
   "metadata": {},
   "source": [
    "# Define Class and Function"
   ]
  },
  {
   "cell_type": "code",
   "execution_count": 53,
   "metadata": {},
   "outputs": [],
   "source": [
    "class scrape:\n",
    "    def __init__(self):\n",
    "        try:\n",
    "            os.makedirs('Hasil')\n",
    "        except OSError as e:\n",
    "            if e.errno == errno.EEXIST and os.path.isdir('Hasil'):\n",
    "                pass\n",
    "            else:\n",
    "                raise\n",
    "\n",
    "    def get_ipasoet(self, link, start_date, end_date):\n",
    "        delta = end_date - start_date\n",
    "        iterdate = []\n",
    "        for i in range(delta.days+1):\n",
    "            current_date = start_date + datetime.timedelta(days=i)\n",
    "            iterdate.append(current_date.isoformat())\n",
    "            \n",
    "        response_list = [f'{link}{i}' for i in iterdate]\n",
    "        \n",
    "        row_list = []\n",
    "        \n",
    "        \n",
    "        for i in response_list:\n",
    "            print(f'downloading from {i}')\n",
    "            time.sleep(2)\n",
    "            response = requests.get(i)\n",
    "            soup = BeautifulSoup(response.content, 'lxml')\n",
    "            table = soup.find('table',class_='table table-striped')\n",
    "            data = table.find_all('tr')\n",
    "\n",
    "            for i in range(1, len(data)):\n",
    "                for row in data[i]:\n",
    "                    row_list.append(row.text)\n",
    "        \n",
    "        data_list = [row_list[i:i+5] for i in range(0, len(row_list),5)]\n",
    "        col = ['No', 'Date', 'Sensor1', 'Sensor2', 'Sensor3']\n",
    "        df = pd.DataFrame(data_list, columns=col)\n",
    "\n",
    "\n",
    "        df['No'] = df['No'].str.replace('[^0-9]', '', regex=True).astype(int)\n",
    "        df['Date'] = pd.to_datetime(df['Date'])\n",
    "        df['Sensor1'] = df['Sensor1'].astype(float)\n",
    "        df['Sensor2'] = df['Sensor2'].astype(float)\n",
    "        df['Sensor3'] = df['Sensor3'].astype(float)\n",
    "\n",
    "        df.set_index('No', inplace=True)\n",
    "\n",
    "        df.to_csv(f'Hasil/{str(start_date)}{str(end_date)}.csv')\n",
    "\n",
    "        print(f'Download Success and Saved !!!')"
   ]
  },
  {
   "cell_type": "markdown",
   "metadata": {},
   "source": [
    "# Usage"
   ]
  },
  {
   "cell_type": "code",
   "execution_count": 54,
   "metadata": {},
   "outputs": [
    {
     "name": "stdout",
     "output_type": "stream",
     "text": [
      "downloading from http://ina-sealevelmonitoring.big.go.id/ipasut/data/byday/1/2023-10-01\n",
      "downloading from http://ina-sealevelmonitoring.big.go.id/ipasut/data/byday/1/2023-10-02\n",
      "downloading from http://ina-sealevelmonitoring.big.go.id/ipasut/data/byday/1/2023-10-03\n",
      "downloading from http://ina-sealevelmonitoring.big.go.id/ipasut/data/byday/1/2023-10-04\n",
      "downloading from http://ina-sealevelmonitoring.big.go.id/ipasut/data/byday/1/2023-10-05\n",
      "downloading from http://ina-sealevelmonitoring.big.go.id/ipasut/data/byday/1/2023-10-06\n",
      "downloading from http://ina-sealevelmonitoring.big.go.id/ipasut/data/byday/1/2023-10-07\n",
      "downloading from http://ina-sealevelmonitoring.big.go.id/ipasut/data/byday/1/2023-10-08\n",
      "downloading from http://ina-sealevelmonitoring.big.go.id/ipasut/data/byday/1/2023-10-09\n",
      "downloading from http://ina-sealevelmonitoring.big.go.id/ipasut/data/byday/1/2023-10-10\n",
      "downloading from http://ina-sealevelmonitoring.big.go.id/ipasut/data/byday/1/2023-10-11\n",
      "downloading from http://ina-sealevelmonitoring.big.go.id/ipasut/data/byday/1/2023-10-12\n",
      "downloading from http://ina-sealevelmonitoring.big.go.id/ipasut/data/byday/1/2023-10-13\n",
      "downloading from http://ina-sealevelmonitoring.big.go.id/ipasut/data/byday/1/2023-10-14\n",
      "downloading from http://ina-sealevelmonitoring.big.go.id/ipasut/data/byday/1/2023-10-15\n",
      "downloading from http://ina-sealevelmonitoring.big.go.id/ipasut/data/byday/1/2023-10-16\n",
      "downloading from http://ina-sealevelmonitoring.big.go.id/ipasut/data/byday/1/2023-10-17\n",
      "downloading from http://ina-sealevelmonitoring.big.go.id/ipasut/data/byday/1/2023-10-18\n",
      "downloading from http://ina-sealevelmonitoring.big.go.id/ipasut/data/byday/1/2023-10-19\n",
      "downloading from http://ina-sealevelmonitoring.big.go.id/ipasut/data/byday/1/2023-10-20\n",
      "downloading from http://ina-sealevelmonitoring.big.go.id/ipasut/data/byday/1/2023-10-21\n",
      "downloading from http://ina-sealevelmonitoring.big.go.id/ipasut/data/byday/1/2023-10-22\n",
      "downloading from http://ina-sealevelmonitoring.big.go.id/ipasut/data/byday/1/2023-10-23\n",
      "downloading from http://ina-sealevelmonitoring.big.go.id/ipasut/data/byday/1/2023-10-24\n",
      "downloading from http://ina-sealevelmonitoring.big.go.id/ipasut/data/byday/1/2023-10-25\n",
      "downloading from http://ina-sealevelmonitoring.big.go.id/ipasut/data/byday/1/2023-10-26\n",
      "downloading from http://ina-sealevelmonitoring.big.go.id/ipasut/data/byday/1/2023-10-27\n",
      "downloading from http://ina-sealevelmonitoring.big.go.id/ipasut/data/byday/1/2023-10-28\n",
      "downloading from http://ina-sealevelmonitoring.big.go.id/ipasut/data/byday/1/2023-10-29\n",
      "downloading from http://ina-sealevelmonitoring.big.go.id/ipasut/data/byday/1/2023-10-30\n",
      "Download Success and Saved !!!\n"
     ]
    }
   ],
   "source": [
    "x = scrape()\n",
    "x.get_ipasoet(link=link, start_date=start_date, end_date=end_date)"
   ]
  }
 ],
 "metadata": {
  "kernelspec": {
   "display_name": "base",
   "language": "python",
   "name": "python3"
  },
  "language_info": {
   "codemirror_mode": {
    "name": "ipython",
    "version": 3
   },
   "file_extension": ".py",
   "mimetype": "text/x-python",
   "name": "python",
   "nbconvert_exporter": "python",
   "pygments_lexer": "ipython3",
   "version": "3.11.5"
  }
 },
 "nbformat": 4,
 "nbformat_minor": 2
}
