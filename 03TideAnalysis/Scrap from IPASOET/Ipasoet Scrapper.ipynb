{
 "cells": [
  {
   "cell_type": "code",
   "execution_count": 183,
   "metadata": {},
   "outputs": [],
   "source": [
    "import requests\n",
    "from bs4 import BeautifulSoup\n",
    "import datetime"
   ]
  },
  {
   "cell_type": "markdown",
   "metadata": {},
   "source": [
    "# Input"
   ]
  },
  {
   "cell_type": "code",
   "execution_count": null,
   "metadata": {},
   "outputs": [],
   "source": [
    "link = 'http://ina-sealevelmonitoring.big.go.id/ipasut/data/byday/1/'\n",
    "\n",
    "start_date = datetime.date(2023,10,1)\n",
    "end_date = datetime.date(2023,10,15)\n",
    "\n",
    "\n",
    "\n",
    "\n"
   ]
  },
  {
   "cell_type": "code",
   "execution_count": null,
   "metadata": {},
   "outputs": [],
   "source": [
    "def get_ipasoet(link, start_date, end_date):\n",
    "\n",
    "    \n",
    "    response_list = []"
   ]
  },
  {
   "cell_type": "markdown",
   "metadata": {},
   "source": [
    "# Coba"
   ]
  },
  {
   "cell_type": "code",
   "execution_count": 184,
   "metadata": {},
   "outputs": [
    {
     "name": "stdout",
     "output_type": "stream",
     "text": [
      "2023-11-01\n",
      "2023-11-02\n",
      "2023-11-03\n",
      "2023-11-04\n",
      "2023-11-05\n",
      "2023-11-06\n",
      "2023-11-07\n",
      "2023-11-08\n",
      "2023-11-09\n",
      "2023-11-10\n",
      "2023-11-11\n",
      "2023-11-12\n",
      "2023-11-13\n",
      "2023-11-14\n",
      "2023-11-15\n"
     ]
    }
   ],
   "source": [
    "start_date = datetime.date(2023,10,1)\n",
    "end_date = datetime.date(2023,10,15)\n",
    "\n",
    "delta = end_date - start_date\n",
    "\n",
    "for i in range(delta.days+1):\n",
    "    current_date = start_date + datetime.timedelta(days=i)\n",
    "    print(current_date.isoformat())"
   ]
  },
  {
   "cell_type": "code",
   "execution_count": 168,
   "metadata": {},
   "outputs": [],
   "source": [
    "response = requests.get(\"http://ina-sealevelmonitoring.big.go.id/ipasut/data/byday/1/2023-11-01\")"
   ]
  },
  {
   "cell_type": "code",
   "execution_count": 169,
   "metadata": {},
   "outputs": [],
   "source": [
    "soup = BeautifulSoup(response.content, 'lxml')\n",
    "table = soup.find('table',class_='table table-striped')\n",
    "data = table.find_all('tr')\n",
    "\n",
    "row_list = []\n",
    "\n",
    "\n",
    "for i in range(1, len(data)):\n",
    "    for row in data[i]:\n",
    "        row_list.append(row.text)\n",
    "\n",
    "data_list = [row_list[i:i+5] for i in range(0, len(row_list),5)]\n"
   ]
  },
  {
   "cell_type": "code",
   "execution_count": null,
   "metadata": {},
   "outputs": [],
   "source": []
  }
 ],
 "metadata": {
  "kernelspec": {
   "display_name": "base",
   "language": "python",
   "name": "python3"
  },
  "language_info": {
   "codemirror_mode": {
    "name": "ipython",
    "version": 3
   },
   "file_extension": ".py",
   "mimetype": "text/x-python",
   "name": "python",
   "nbconvert_exporter": "python",
   "pygments_lexer": "ipython3",
   "version": "3.11.5"
  }
 },
 "nbformat": 4,
 "nbformat_minor": 2
}
