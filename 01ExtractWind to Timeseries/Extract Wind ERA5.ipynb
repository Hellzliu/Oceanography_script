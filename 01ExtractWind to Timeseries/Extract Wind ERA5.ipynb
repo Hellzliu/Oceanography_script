{
 "cells": [
  {
   "cell_type": "code",
   "execution_count": 1,
   "metadata": {},
   "outputs": [],
   "source": [
    "from netCDF4 import Dataset, num2date\n",
    "import numpy as np\n",
    "import pandas as pd"
   ]
  },
  {
   "cell_type": "code",
   "execution_count": 3,
   "metadata": {},
   "outputs": [],
   "source": [
    "data = Dataset(r'D:/Work/04Script/01Oceanography/01ExtractWind to Timeseries/Data/ERA5 2022 Angin.nc')\n",
    "lon = data.variables['longitude']\n",
    "lat = data.variables['latitude']\n",
    "time = data.variables['time']\n",
    "u = data.variables['u10'][:,0,0]\n",
    "v = data.variables['v10'][:,0,0]\n",
    "time_unit = data.variables['time'].getncattr('units')\n",
    "time_cal = data.variables['time'].getncattr('calendar') \n",
    "local_time = num2date(time, units=time_unit, calendar=time_cal)"
   ]
  },
  {
   "cell_type": "code",
   "execution_count": 4,
   "metadata": {},
   "outputs": [],
   "source": [
    "x = u**2+v**2\n",
    "speed = np.sqrt(x)\n",
    "direction = np.mod((270-np.rad2deg(np.arctan2(v, u))),360)"
   ]
  },
  {
   "cell_type": "code",
   "execution_count": 7,
   "metadata": {},
   "outputs": [],
   "source": [
    "d = {'Time':local_time,'Speed': speed, 'direction': direction, 'u': u, 'v': v}\n",
    "df = pd.DataFrame(data = d, index = None )"
   ]
  },
  {
   "cell_type": "code",
   "execution_count": 8,
   "metadata": {},
   "outputs": [],
   "source": [
    "df.to_csv('Wind.csv', index=False)"
   ]
  },
  {
   "cell_type": "code",
   "execution_count": null,
   "metadata": {},
   "outputs": [],
   "source": []
  }
 ],
 "metadata": {
  "kernelspec": {
   "display_name": "base",
   "language": "python",
   "name": "python3"
  },
  "language_info": {
   "codemirror_mode": {
    "name": "ipython",
    "version": 3
   },
   "file_extension": ".py",
   "mimetype": "text/x-python",
   "name": "python",
   "nbconvert_exporter": "python",
   "pygments_lexer": "ipython3",
   "version": "3.11.4"
  },
  "orig_nbformat": 4
 },
 "nbformat": 4,
 "nbformat_minor": 2
}
