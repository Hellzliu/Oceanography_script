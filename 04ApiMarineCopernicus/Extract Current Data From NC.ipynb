{
 "cells": [
  {
   "cell_type": "code",
   "execution_count": 1,
   "metadata": {},
   "outputs": [],
   "source": [
    "import numpy as np\n",
    "import matplotlib.pyplot as plt\n",
    "from mpl_toolkits.basemap import Basemap\n",
    "from netCDF4 import Dataset, num2date\n",
    "from datetime import datetime\n",
    "import pandas as pd\n",
    "import matplotlib.dates as mdates\n",
    "from sklearn.metrics import mean_squared_error, r2_score\n",
    "import math\n",
    "from sklearn import datasets, linear_model\n",
    "from tabulate import tabulate\n",
    "import os"
   ]
  },
  {
   "cell_type": "code",
   "execution_count": 3,
   "metadata": {},
   "outputs": [
    {
     "name": "stdout",
     "output_type": "stream",
     "text": [
      "d:\\Work\\04Script\\01Oceanography\\04ApiMarineCopernicus\n"
     ]
    }
   ],
   "source": [
    "current_path = os.getcwd()\n",
    "print(current_path)"
   ]
  },
  {
   "cell_type": "code",
   "execution_count": 116,
   "metadata": {},
   "outputs": [],
   "source": [
    "data = Dataset(r'Arus_Musim_Barat_CMEMS.nc')\n",
    "lon = data.variables[\"longitude\"][:].filled(np.nan)\n",
    "lat = data.variables[\"latitude\"][:].filled(np.nan)\n",
    "vo = data.variables[\"vo\"][:].filled(np.nan)\n",
    "uo = data.variables [\"uo\"][:].filled(np.nan)\n",
    "zos = data.variables[\"zos\"][:].filled(np.nan)\n",
    "\n",
    "time = data.variables[\"time\"][:].filled(np.nan)\n",
    "time_unit = data.variables[\"time\"].getncattr('units')\n",
    "local_time = num2date(time, units=time_unit,calendar='gregorian')"
   ]
  },
  {
   "cell_type": "code",
   "execution_count": null,
   "metadata": {},
   "outputs": [],
   "source": []
  }
 ],
 "metadata": {
  "kernelspec": {
   "display_name": "base",
   "language": "python",
   "name": "python3"
  },
  "language_info": {
   "codemirror_mode": {
    "name": "ipython",
    "version": 3
   },
   "file_extension": ".py",
   "mimetype": "text/x-python",
   "name": "python",
   "nbconvert_exporter": "python",
   "pygments_lexer": "ipython3",
   "version": "3.11.4"
  },
  "orig_nbformat": 4
 },
 "nbformat": 4,
 "nbformat_minor": 2
}
