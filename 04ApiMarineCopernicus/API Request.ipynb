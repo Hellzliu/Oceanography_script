{
 "cells": [
  {
   "cell_type": "code",
   "execution_count": 1,
   "metadata": {},
   "outputs": [],
   "source": [
    "import copernicus_marine_client as cmc\n",
    "from pprint import pprint"
   ]
  },
  {
   "cell_type": "code",
   "execution_count": 3,
   "metadata": {},
   "outputs": [],
   "source": [
    "catalog = cmc.describe(contains=\"Current\", \n",
    "                       include_description=True)\n",
    "pprint(catalog)"
   ]
  },
  {
   "cell_type": "code",
   "execution_count": 2,
   "metadata": {},
   "outputs": [],
   "source": [
    "cmc.subset(dataset_id= \"cmems_mod_glo_phy_anfc_0.083deg_PT1H-m\", \n",
    "           variables= ['uo', 'vo'], \n",
    "           minimal_longitude= 102.56, \n",
    "           maximal_longitude= 105.88, \n",
    "           minimal_latitude= -0.79, \n",
    "           maximal_latitude= 1.84,\n",
    "           minimal_depth= 0,\n",
    "           maximal_depth= 0,\n",
    "           start_datetime= \"2021-12-01 00:00:00\",\n",
    "           end_datetime= \"2022-03-01 00:00:00\",\n",
    "           output_filename= \"Arus.nc\",\n",
    "           output_directory= r\"C:/Users/Helwis/Downloads\",\n",
    "           username= \"hliufandy\",\n",
    "           password= \"@Ui085262351958\")"
   ]
  },
  {
   "cell_type": "code",
   "execution_count": null,
   "metadata": {},
   "outputs": [],
   "source": []
  }
 ],
 "metadata": {
  "kernelspec": {
   "display_name": "base",
   "language": "python",
   "name": "python3"
  },
  "language_info": {
   "codemirror_mode": {
    "name": "ipython",
    "version": 3
   },
   "file_extension": ".py",
   "mimetype": "text/x-python",
   "name": "python",
   "nbconvert_exporter": "python",
   "pygments_lexer": "ipython3",
   "version": "3.11.4"
  },
  "orig_nbformat": 4
 },
 "nbformat": 4,
 "nbformat_minor": 2
}
